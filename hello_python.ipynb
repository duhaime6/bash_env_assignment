{
 "cells": [
  {
   "cell_type": "markdown",
   "id": "fc047d0e-5afe-4455-b56b-9ff9ef121b47",
   "metadata": {},
   "source": [
    "# Hello World in Python\n",
    "This notebook demonstrates a simple \"Hello, World!\" script in Python."
   ]
  },
  {
   "cell_type": "code",
   "execution_count": 1,
   "id": "6b67fbf5-4f6c-4a06-ba0f-fc01855a3af8",
   "metadata": {},
   "outputs": [
    {
     "name": "stdout",
     "output_type": "stream",
     "text": [
      "Hello, World from Python!\n"
     ]
    }
   ],
   "source": [
    "print(\"Hello, World from Python!\")"
   ]
  },
  {
   "cell_type": "code",
   "execution_count": null,
   "id": "58d33d61-be24-447f-a19d-0711bb9bfdb9",
   "metadata": {},
   "outputs": [],
   "source": []
  }
 ],
 "metadata": {
  "kernelspec": {
   "display_name": "Python (7030_class_1)",
   "language": "python",
   "name": "7030_class_1"
  },
  "language_info": {
   "codemirror_mode": {
    "name": "ipython",
    "version": 3
   },
   "file_extension": ".py",
   "mimetype": "text/x-python",
   "name": "python",
   "nbconvert_exporter": "python",
   "pygments_lexer": "ipython3",
   "version": "3.10.18"
  }
 },
 "nbformat": 4,
 "nbformat_minor": 5
}
