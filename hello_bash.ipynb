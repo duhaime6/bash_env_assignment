{
 "cells": [
  {
   "cell_type": "markdown",
   "id": "74e25091-e2fb-47f6-92d7-77c48ff4ef33",
   "metadata": {},
   "source": [
    "# Hello World in Bash\n",
    "This notebook demonstrates a simple \"Hello, World!\" script in Bash."
   ]
  },
  {
   "cell_type": "code",
   "execution_count": 3,
   "id": "6179bb62-ea41-46b0-abc2-60159e489696",
   "metadata": {},
   "outputs": [
    {
     "name": "stdout",
     "output_type": "stream",
     "text": [
      "\u001b]777;preexec\u001b\\Hello, World from Bash!\n"
     ]
    },
    {
     "ename": "",
     "evalue": "1",
     "output_type": "error",
     "traceback": []
    }
   ],
   "source": [
    "#!/bin/bash\n",
    "echo \"Hello, World from Bash!\""
   ]
  },
  {
   "cell_type": "code",
   "execution_count": null,
   "id": "6dc7ab75-718a-4598-9e85-2466d18ad5d7",
   "metadata": {},
   "outputs": [],
   "source": []
  }
 ],
 "metadata": {
  "kernelspec": {
   "display_name": "Bash",
   "language": "bash",
   "name": "bash"
  },
  "language_info": {
   "codemirror_mode": "shell",
   "file_extension": ".sh",
   "mimetype": "text/x-sh",
   "name": "bash"
  }
 },
 "nbformat": 4,
 "nbformat_minor": 5
}
