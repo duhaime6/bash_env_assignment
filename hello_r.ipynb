{
 "cells": [
  {
   "cell_type": "markdown",
   "id": "fc047d0e-5afe-4455-b56b-9ff9ef121b47",
   "metadata": {},
   "source": [
    "# Hello World in R\n",
    "This notebook demonstrates a simple \"Hello, World!\" script in R."
   ]
  },
  {
   "cell_type": "code",
   "execution_count": 1,
   "id": "6b67fbf5-4f6c-4a06-ba0f-fc01855a3af8",
   "metadata": {},
   "outputs": [
    {
     "name": "stdout",
     "output_type": "stream",
     "text": [
      "Hello, World from R!\n"
     ]
    }
   ],
   "source": [
    "cat(\"Hello, World from R!\\n\")"
   ]
  },
  {
   "cell_type": "code",
   "execution_count": null,
   "id": "58d33d61-be24-447f-a19d-0711bb9bfdb9",
   "metadata": {},
   "outputs": [],
   "source": []
  }
 ],
 "metadata": {
  "kernelspec": {
   "display_name": "R (7030_class_1)",
   "language": "R",
   "name": "ir_7030_class_1"
  },
  "language_info": {
   "codemirror_mode": "r",
   "file_extension": ".r",
   "mimetype": "text/x-r-source",
   "name": "R",
   "pygments_lexer": "r",
   "version": "4.4.3"
  }
 },
 "nbformat": 4,
 "nbformat_minor": 5
}
